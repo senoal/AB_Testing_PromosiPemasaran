{
 "cells": [
  {
   "cell_type": "markdown",
   "id": "fb664294-847a-4bc7-b734-b4ea807c67f9",
   "metadata": {},
   "source": [
    "# A/B Testing Promosi Pemasaran"
   ]
  },
  {
   "cell_type": "markdown",
   "id": "8bf8179b-4d54-4de4-93e4-9a8ea6151dca",
   "metadata": {},
   "source": [
    "Jenis promosi yang manakah yang paling efektif?"
   ]
  },
  {
   "cell_type": "markdown",
   "id": "86c2a330-d080-4a79-9f9b-d1c782192728",
   "metadata": {},
   "source": [
    "<b>Skenario :</b><br>\n",
    "Sebuah rantai makanan cepat saji berencana untuk menambahkan item baru ke menunya. Namun, mereka masih belum memutuskan antara tiga kemungkinan kampanye pemasaran untuk mempromosikan produk baru. Untuk menentukan promosi mana yang memiliki pengaruh terbesar pada penjualan, item baru diperkenalkan di lokasi di beberapa pasar yang dipilih secara acak. Promosi berbeda digunakan di setiap lokasi, dan penjualan mingguan item baru dicatat selama empat minggu pertama.\n",
    "<br>\n",
    "<b>Deskripsi dari dataset yang digunakan :</b> terdiri dari 548 entri yang termasuk :\n",
    "* MarketId: id internal yang digunakan untuk mendeskripsikan jenis pasar, disini tidak digunakan.\n",
    "* AgeOfStores: Usia toko dalam tahun (1–28). Usia rata-rata sebuah toko adalah 8,5 tahun.\n",
    "* LocationID: Id unik untuk lokasi toko. Setiap lokasi diidentifikasi dengan nomor. Jumlah toko adalah 137.\n",
    "* Promosi: Salah satu dari tiga promosi yang diuji (A, B, C). Pada dataset tersebut tidak diketahui secara spesifik setiap promosi.\n",
    "* Penjualan (dalam Ribuan): Jumlah penjualan untuk ID Lokasi, Promosi, dan minggu tertentu. Jumlah rata-rata penjualan adalah 53,5 ribu dolar.\n",
    "* Ukuran pasar: ada tiga jenis ukuran pasar: kecil, menengah dan besar.\n",
    "* Minggu: Satu dari empat minggu saat promosi dijalankan (1-4)."
   ]
  },
  {
   "cell_type": "code",
   "execution_count": 6,
   "id": "56871b8d-93e2-4ab2-8385-9fa88deb5a3b",
   "metadata": {},
   "outputs": [],
   "source": [
    "import pandas as pd\n",
    "import matplotlib.pyplot as plt"
   ]
  },
  {
   "cell_type": "code",
   "execution_count": 14,
   "id": "177435d7-aad8-47a7-a085-c450f4335691",
   "metadata": {},
   "outputs": [
    {
     "data": {
      "text/html": [
       "<div>\n",
       "<style scoped>\n",
       "    .dataframe tbody tr th:only-of-type {\n",
       "        vertical-align: middle;\n",
       "    }\n",
       "\n",
       "    .dataframe tbody tr th {\n",
       "        vertical-align: top;\n",
       "    }\n",
       "\n",
       "    .dataframe thead th {\n",
       "        text-align: right;\n",
       "    }\n",
       "</style>\n",
       "<table border=\"1\" class=\"dataframe\">\n",
       "  <thead>\n",
       "    <tr style=\"text-align: right;\">\n",
       "      <th></th>\n",
       "      <th>MarketID</th>\n",
       "      <th>MarketSize</th>\n",
       "      <th>LocationID</th>\n",
       "      <th>AgeOfStore</th>\n",
       "      <th>Promotion</th>\n",
       "      <th>week</th>\n",
       "      <th>SalesInThousands</th>\n",
       "    </tr>\n",
       "  </thead>\n",
       "  <tbody>\n",
       "    <tr>\n",
       "      <th>0</th>\n",
       "      <td>1</td>\n",
       "      <td>Medium</td>\n",
       "      <td>1</td>\n",
       "      <td>4</td>\n",
       "      <td>C</td>\n",
       "      <td>1</td>\n",
       "      <td>33.73</td>\n",
       "    </tr>\n",
       "    <tr>\n",
       "      <th>1</th>\n",
       "      <td>1</td>\n",
       "      <td>Medium</td>\n",
       "      <td>1</td>\n",
       "      <td>4</td>\n",
       "      <td>C</td>\n",
       "      <td>2</td>\n",
       "      <td>35.67</td>\n",
       "    </tr>\n",
       "    <tr>\n",
       "      <th>2</th>\n",
       "      <td>1</td>\n",
       "      <td>Medium</td>\n",
       "      <td>1</td>\n",
       "      <td>4</td>\n",
       "      <td>C</td>\n",
       "      <td>3</td>\n",
       "      <td>29.03</td>\n",
       "    </tr>\n",
       "    <tr>\n",
       "      <th>3</th>\n",
       "      <td>1</td>\n",
       "      <td>Medium</td>\n",
       "      <td>1</td>\n",
       "      <td>4</td>\n",
       "      <td>C</td>\n",
       "      <td>4</td>\n",
       "      <td>39.25</td>\n",
       "    </tr>\n",
       "    <tr>\n",
       "      <th>4</th>\n",
       "      <td>1</td>\n",
       "      <td>Medium</td>\n",
       "      <td>2</td>\n",
       "      <td>5</td>\n",
       "      <td>B</td>\n",
       "      <td>1</td>\n",
       "      <td>27.81</td>\n",
       "    </tr>\n",
       "    <tr>\n",
       "      <th>5</th>\n",
       "      <td>1</td>\n",
       "      <td>Medium</td>\n",
       "      <td>2</td>\n",
       "      <td>5</td>\n",
       "      <td>B</td>\n",
       "      <td>2</td>\n",
       "      <td>34.67</td>\n",
       "    </tr>\n",
       "    <tr>\n",
       "      <th>6</th>\n",
       "      <td>1</td>\n",
       "      <td>Medium</td>\n",
       "      <td>2</td>\n",
       "      <td>5</td>\n",
       "      <td>B</td>\n",
       "      <td>3</td>\n",
       "      <td>27.98</td>\n",
       "    </tr>\n",
       "    <tr>\n",
       "      <th>7</th>\n",
       "      <td>1</td>\n",
       "      <td>Medium</td>\n",
       "      <td>2</td>\n",
       "      <td>5</td>\n",
       "      <td>B</td>\n",
       "      <td>4</td>\n",
       "      <td>27.72</td>\n",
       "    </tr>\n",
       "    <tr>\n",
       "      <th>8</th>\n",
       "      <td>1</td>\n",
       "      <td>Medium</td>\n",
       "      <td>3</td>\n",
       "      <td>12</td>\n",
       "      <td>A</td>\n",
       "      <td>1</td>\n",
       "      <td>44.54</td>\n",
       "    </tr>\n",
       "    <tr>\n",
       "      <th>9</th>\n",
       "      <td>1</td>\n",
       "      <td>Medium</td>\n",
       "      <td>3</td>\n",
       "      <td>12</td>\n",
       "      <td>A</td>\n",
       "      <td>2</td>\n",
       "      <td>37.94</td>\n",
       "    </tr>\n",
       "  </tbody>\n",
       "</table>\n",
       "</div>"
      ],
      "text/plain": [
       "   MarketID MarketSize  LocationID  AgeOfStore Promotion  week  \\\n",
       "0         1     Medium           1           4         C     1   \n",
       "1         1     Medium           1           4         C     2   \n",
       "2         1     Medium           1           4         C     3   \n",
       "3         1     Medium           1           4         C     4   \n",
       "4         1     Medium           2           5         B     1   \n",
       "5         1     Medium           2           5         B     2   \n",
       "6         1     Medium           2           5         B     3   \n",
       "7         1     Medium           2           5         B     4   \n",
       "8         1     Medium           3          12         A     1   \n",
       "9         1     Medium           3          12         A     2   \n",
       "\n",
       "   SalesInThousands  \n",
       "0             33.73  \n",
       "1             35.67  \n",
       "2             29.03  \n",
       "3             39.25  \n",
       "4             27.81  \n",
       "5             34.67  \n",
       "6             27.98  \n",
       "7             27.72  \n",
       "8             44.54  \n",
       "9             37.94  "
      ]
     },
     "execution_count": 14,
     "metadata": {},
     "output_type": "execute_result"
    }
   ],
   "source": [
    "df = pd.read_csv('ab_testing.csv')\n",
    "df.head(10)"
   ]
  },
  {
   "cell_type": "code",
   "execution_count": 16,
   "id": "7abaffdd-42d8-49a8-9f59-ff0145f10f95",
   "metadata": {},
   "outputs": [
    {
     "data": {
      "text/plain": [
       "(548, 7)"
      ]
     },
     "execution_count": 16,
     "metadata": {},
     "output_type": "execute_result"
    }
   ],
   "source": [
    "# Dimensi data\n",
    "df.shape"
   ]
  },
  {
   "cell_type": "code",
   "execution_count": 17,
   "id": "f3749f05-0c9a-4f85-bf1d-91d6b389ed8f",
   "metadata": {},
   "outputs": [
    {
     "data": {
      "text/plain": [
       "['MarketID',\n",
       " 'MarketSize',\n",
       " 'LocationID',\n",
       " 'AgeOfStore',\n",
       " 'Promotion',\n",
       " 'week',\n",
       " 'SalesInThousands']"
      ]
     },
     "execution_count": 17,
     "metadata": {},
     "output_type": "execute_result"
    }
   ],
   "source": [
    "# Kolom yang tersedia\n",
    "df.columns.tolist()"
   ]
  },
  {
   "cell_type": "code",
   "execution_count": 18,
   "id": "4e015ec6-b552-4270-b860-969c43bc9c57",
   "metadata": {},
   "outputs": [
    {
     "data": {
      "text/plain": [
       "0"
      ]
     },
     "execution_count": 18,
     "metadata": {},
     "output_type": "execute_result"
    }
   ],
   "source": [
    "# Periksa data kosong\n",
    "df.isnull().sum().values.sum()"
   ]
  },
  {
   "cell_type": "code",
   "execution_count": 19,
   "id": "1f5f11d4-582c-4fb8-9f13-d2f418c3d5f4",
   "metadata": {},
   "outputs": [
    {
     "data": {
      "text/plain": [
       "MarketID             10\n",
       "MarketSize            3\n",
       "LocationID          137\n",
       "AgeOfStore           25\n",
       "Promotion             3\n",
       "week                  4\n",
       "SalesInThousands    517\n",
       "dtype: int64"
      ]
     },
     "execution_count": 19,
     "metadata": {},
     "output_type": "execute_result"
    }
   ],
   "source": [
    "# Periksa jumlah kategori (unik) pada setiap kolom\n",
    "df.nunique()"
   ]
  },
  {
   "cell_type": "code",
   "execution_count": 20,
   "id": "fa8a2be5-f22f-479e-ab87-f310c3f43c24",
   "metadata": {},
   "outputs": [
    {
     "data": {
      "text/html": [
       "<div>\n",
       "<style scoped>\n",
       "    .dataframe tbody tr th:only-of-type {\n",
       "        vertical-align: middle;\n",
       "    }\n",
       "\n",
       "    .dataframe tbody tr th {\n",
       "        vertical-align: top;\n",
       "    }\n",
       "\n",
       "    .dataframe thead th {\n",
       "        text-align: right;\n",
       "    }\n",
       "</style>\n",
       "<table border=\"1\" class=\"dataframe\">\n",
       "  <thead>\n",
       "    <tr style=\"text-align: right;\">\n",
       "      <th></th>\n",
       "      <th>MarketID</th>\n",
       "      <th>LocationID</th>\n",
       "      <th>AgeOfStore</th>\n",
       "      <th>week</th>\n",
       "      <th>SalesInThousands</th>\n",
       "    </tr>\n",
       "  </thead>\n",
       "  <tbody>\n",
       "    <tr>\n",
       "      <th>count</th>\n",
       "      <td>548.000000</td>\n",
       "      <td>548.000000</td>\n",
       "      <td>548.000000</td>\n",
       "      <td>548.000000</td>\n",
       "      <td>548.000000</td>\n",
       "    </tr>\n",
       "    <tr>\n",
       "      <th>mean</th>\n",
       "      <td>5.715328</td>\n",
       "      <td>479.656934</td>\n",
       "      <td>8.503650</td>\n",
       "      <td>2.500000</td>\n",
       "      <td>53.466204</td>\n",
       "    </tr>\n",
       "    <tr>\n",
       "      <th>std</th>\n",
       "      <td>2.877001</td>\n",
       "      <td>287.973679</td>\n",
       "      <td>6.638345</td>\n",
       "      <td>1.119055</td>\n",
       "      <td>16.755216</td>\n",
       "    </tr>\n",
       "    <tr>\n",
       "      <th>min</th>\n",
       "      <td>1.000000</td>\n",
       "      <td>1.000000</td>\n",
       "      <td>1.000000</td>\n",
       "      <td>1.000000</td>\n",
       "      <td>17.340000</td>\n",
       "    </tr>\n",
       "    <tr>\n",
       "      <th>25%</th>\n",
       "      <td>3.000000</td>\n",
       "      <td>216.000000</td>\n",
       "      <td>4.000000</td>\n",
       "      <td>1.750000</td>\n",
       "      <td>42.545000</td>\n",
       "    </tr>\n",
       "    <tr>\n",
       "      <th>50%</th>\n",
       "      <td>6.000000</td>\n",
       "      <td>504.000000</td>\n",
       "      <td>7.000000</td>\n",
       "      <td>2.500000</td>\n",
       "      <td>50.200000</td>\n",
       "    </tr>\n",
       "    <tr>\n",
       "      <th>75%</th>\n",
       "      <td>8.000000</td>\n",
       "      <td>708.000000</td>\n",
       "      <td>12.000000</td>\n",
       "      <td>3.250000</td>\n",
       "      <td>60.477500</td>\n",
       "    </tr>\n",
       "    <tr>\n",
       "      <th>max</th>\n",
       "      <td>10.000000</td>\n",
       "      <td>920.000000</td>\n",
       "      <td>28.000000</td>\n",
       "      <td>4.000000</td>\n",
       "      <td>99.650000</td>\n",
       "    </tr>\n",
       "  </tbody>\n",
       "</table>\n",
       "</div>"
      ],
      "text/plain": [
       "         MarketID  LocationID  AgeOfStore        week  SalesInThousands\n",
       "count  548.000000  548.000000  548.000000  548.000000        548.000000\n",
       "mean     5.715328  479.656934    8.503650    2.500000         53.466204\n",
       "std      2.877001  287.973679    6.638345    1.119055         16.755216\n",
       "min      1.000000    1.000000    1.000000    1.000000         17.340000\n",
       "25%      3.000000  216.000000    4.000000    1.750000         42.545000\n",
       "50%      6.000000  504.000000    7.000000    2.500000         50.200000\n",
       "75%      8.000000  708.000000   12.000000    3.250000         60.477500\n",
       "max     10.000000  920.000000   28.000000    4.000000         99.650000"
      ]
     },
     "execution_count": 20,
     "metadata": {},
     "output_type": "execute_result"
    }
   ],
   "source": [
    "# Priksa data secara keseluruhan\n",
    "df.describe()"
   ]
  },
  {
   "cell_type": "markdown",
   "id": "15cb2850-fd4b-4804-85a0-ec0a423874ca",
   "metadata": {},
   "source": [
    "# Exploratory Data Analysis"
   ]
  },
  {
   "cell_type": "code",
   "execution_count": 21,
   "id": "6ec29054-7980-435b-bbd8-415a4c8464f5",
   "metadata": {},
   "outputs": [
    {
     "data": {
      "image/png": "[encoded data removed]",
      "text/plain": [
       "<Figure size 576x576 with 1 Axes>"
      ]
     },
     "metadata": {},
     "output_type": "display_data"
    }
   ],
   "source": [
    "# ggplot's style\n",
    "plt.style.use('ggplot')\n",
    "ax = df.groupby('Promotion').sum()['SalesInThousands'].plot.pie(figsize=(8,8),\n",
    "                                                                autopct='%1.0f%%',\n",
    "                                                                shadow=True,\n",
    "                                                                explode=(0.05,0,0.1))\n",
    "ax.set_ylabel('')\n",
    "ax.set_title('Sales Distribution Across the 3 Different Promotions')\n",
    "\n",
    "plt.show()"
   ]
  },
  {
   "cell_type": "code",
   "execution_count": 22,
   "id": "ed288770-5323-4a09-95c5-a856c8dfa4d4",
   "metadata": {},
   "outputs": [
    {
     "data": {
      "text/plain": [
       "Promotion  MarketSize\n",
       "A          Large          56\n",
       "           Medium         96\n",
       "           Small          20\n",
       "B          Large          64\n",
       "           Medium        108\n",
       "           Small          16\n",
       "C          Large          48\n",
       "           Medium        116\n",
       "           Small          24\n",
       "Name: MarketID, dtype: int64"
      ]
     },
     "execution_count": 22,
     "metadata": {},
     "output_type": "execute_result"
    }
   ],
   "source": [
    "# Lihat marketsize pada setiap promosi yang ada\n",
    "df.groupby(['Promotion', 'MarketSize']).count()['MarketID']"
   ]
  },
  {
   "cell_type": "code",
   "execution_count": 23,
   "id": "3047731a-518b-49b7-b194-3fbb88eb89e3",
   "metadata": {},
   "outputs": [
    {
     "data": {
      "text/html": [
       "<div>\n",
       "<style scoped>\n",
       "    .dataframe tbody tr th:only-of-type {\n",
       "        vertical-align: middle;\n",
       "    }\n",
       "\n",
       "    .dataframe tbody tr th {\n",
       "        vertical-align: top;\n",
       "    }\n",
       "\n",
       "    .dataframe thead th {\n",
       "        text-align: right;\n",
       "    }\n",
       "</style>\n",
       "<table border=\"1\" class=\"dataframe\">\n",
       "  <thead>\n",
       "    <tr style=\"text-align: right;\">\n",
       "      <th>MarketSize</th>\n",
       "      <th>Large</th>\n",
       "      <th>Medium</th>\n",
       "      <th>Small</th>\n",
       "    </tr>\n",
       "    <tr>\n",
       "      <th>Promotion</th>\n",
       "      <th></th>\n",
       "      <th></th>\n",
       "      <th></th>\n",
       "    </tr>\n",
       "  </thead>\n",
       "  <tbody>\n",
       "    <tr>\n",
       "      <th>A</th>\n",
       "      <td>56</td>\n",
       "      <td>96</td>\n",
       "      <td>20</td>\n",
       "    </tr>\n",
       "    <tr>\n",
       "      <th>B</th>\n",
       "      <td>64</td>\n",
       "      <td>108</td>\n",
       "      <td>16</td>\n",
       "    </tr>\n",
       "    <tr>\n",
       "      <th>C</th>\n",
       "      <td>48</td>\n",
       "      <td>116</td>\n",
       "      <td>24</td>\n",
       "    </tr>\n",
       "  </tbody>\n",
       "</table>\n",
       "</div>"
      ],
      "text/plain": [
       "MarketSize  Large  Medium  Small\n",
       "Promotion                       \n",
       "A              56      96     20\n",
       "B              64     108     16\n",
       "C              48     116     24"
      ]
     },
     "execution_count": 23,
     "metadata": {},
     "output_type": "execute_result"
    }
   ],
   "source": [
    "# Lihat jumlah setiap marketsize pada masing-masing promosi\n",
    "df.groupby(['Promotion','MarketSize']).count()['MarketID'].unstack('MarketSize')"
   ]
  },
  {
   "cell_type": "code",
   "execution_count": 25,
   "id": "3bbba2f5-b16a-40cd-9f7a-27985d4d748d",
   "metadata": {},
   "outputs": [
    {
     "data": {
      "image/png": "[encoded data removed]",
      "text/plain": [
       "<Figure size 864x720 with 1 Axes>"
      ]
     },
     "metadata": {},
     "output_type": "display_data"
    }
   ],
   "source": [
    "# Buat grafik berdasarkan\n",
    "# jumlah setiap marketsize pada masing-masing promosi\n",
    "\n",
    "# Put this into a plot\n",
    "ax = df.groupby(['Promotion', 'MarketSize']).count()['MarketID'].unstack('MarketSize').plot(\n",
    "    kind='bar',\n",
    "    figsize=(12,10),\n",
    "    grid=True)\n",
    "\n",
    "ax.set_ylabel('count')\n",
    "ax.set_title('breakdowns of market sizes across different promotions')\n",
    "\n",
    "plt.show()"
   ]
  },
  {
   "cell_type": "code",
   "execution_count": 26,
   "id": "9be3abe2-aee0-4b4a-bfe7-717414dbeb15",
   "metadata": {},
   "outputs": [
    {
     "data": {
      "image/png": "[encoded data removed]",
      "text/plain": [
       "<Figure size 864x720 with 1 Axes>"
      ]
     },
     "metadata": {},
     "output_type": "display_data"
    }
   ],
   "source": [
    "# Buat 3 data dalam 1 grafik untuk setiap jenis promosi\n",
    "ax = df.groupby(['Promotion', 'MarketSize']).count()['MarketID'].unstack('MarketSize').plot(\n",
    "    kind='bar',\n",
    "    figsize=(12,10),\n",
    "    grid=True,\n",
    "    stacked=True)\n",
    "\n",
    "ax.set_ylabel('count')\n",
    "ax.set_title('breakdowns of market sizes across different promotions')\n",
    "\n",
    "plt.show()"
   ]
  },
  {
   "cell_type": "code",
   "execution_count": 27,
   "id": "a5c884a3-be58-4262-ac4d-9ea29e5732b8",
   "metadata": {},
   "outputs": [
    {
     "data": {
      "image/png": "[encoded data removed]",
      "text/plain": [
       "<Figure size 864x504 with 1 Axes>"
      ]
     },
     "metadata": {},
     "output_type": "display_data"
    }
   ],
   "source": [
    "ax = df.groupby('AgeOfStore').count()['MarketID'].plot(\n",
    "    kind='bar', \n",
    "    figsize=(12,7),\n",
    "    grid=True)\n",
    "\n",
    "ax.set_xlabel('age')\n",
    "ax.set_ylabel('count')\n",
    "ax.set_title('Overall Distributions Store Ages')\n",
    "\n",
    "plt.show()"
   ]
  },
  {
   "cell_type": "code",
   "execution_count": 28,
   "id": "54861c96-c877-4ccc-905c-30b0a487b7a2",
   "metadata": {},
   "outputs": [
    {
     "data": {
      "text/plain": [
       "AgeOfStore  Promotion\n",
       "1           A            24\n",
       "            B            36\n",
       "            C            20\n",
       "2           A             8\n",
       "            B             8\n",
       "            C             4\n",
       "3           A            16\n",
       "            B            12\n",
       "            C             4\n",
       "4           A            16\n",
       "            B            12\n",
       "            C            16\n",
       "5           A             8\n",
       "            B            12\n",
       "            C            24\n",
       "6           A            20\n",
       "            B             4\n",
       "            C            12\n",
       "7           A             4\n",
       "            B            24\n",
       "            C            12\n",
       "8           A            12\n",
       "            B             8\n",
       "            C            20\n",
       "9           A             8\n",
       "            B            12\n",
       "            C             8\n",
       "10          B            16\n",
       "            C             8\n",
       "11          A             4\n",
       "            C            12\n",
       "12          A            12\n",
       "            B             4\n",
       "            C             8\n",
       "13          A            12\n",
       "            B             8\n",
       "14          B             8\n",
       "            C             4\n",
       "15          A             4\n",
       "            B             4\n",
       "17          C             4\n",
       "18          A             8\n",
       "19          A             4\n",
       "            B             8\n",
       "            C             8\n",
       "20          C             4\n",
       "22          A             4\n",
       "            C             8\n",
       "23          B             4\n",
       "            C             4\n",
       "24          A             4\n",
       "            C             8\n",
       "25          B             4\n",
       "27          A             4\n",
       "28          B             4\n",
       "Name: MarketID, dtype: int64"
      ]
     },
     "execution_count": 28,
     "metadata": {},
     "output_type": "execute_result"
    }
   ],
   "source": [
    "# Tampilkan data jumlah promosi untuk setiap jenis promosi pada masing-masing usia toko\n",
    "df.groupby(['AgeOfStore', 'Promotion']).count()['MarketID']"
   ]
  },
  {
   "cell_type": "code",
   "execution_count": 29,
   "id": "9353198a-bd7b-4e15-bc68-8980ee7f7c0b",
   "metadata": {},
   "outputs": [
    {
     "data": {
      "image/png": "[encoded data removed]",
      "text/plain": [
       "<Figure size 1008x1296 with 1 Axes>"
      ]
     },
     "metadata": {},
     "output_type": "display_data"
    }
   ],
   "source": [
    "# Visualisasi jumlah promosi untuk setiap usia toko\n",
    "ax = df.groupby(['AgeOfStore', 'Promotion']).count()['MarketID'].unstack('Promotion').iloc[::-1].plot(\n",
    "    kind='barh', \n",
    "    figsize=(14,18),\n",
    "    grid=True)\n",
    "\n",
    "ax.set_ylabel('age')\n",
    "ax.set_xlabel('count')\n",
    "ax.set_title('overall distributions of age of store')\n",
    "\n",
    "plt.show()"
   ]
  },
  {
   "cell_type": "code",
   "execution_count": 30,
   "id": "0a2d5272-a08e-4b25-a65d-b39ad9f5e862",
   "metadata": {},
   "outputs": [
    {
     "data": {
      "text/html": [
       "<div>\n",
       "<style scoped>\n",
       "    .dataframe tbody tr th:only-of-type {\n",
       "        vertical-align: middle;\n",
       "    }\n",
       "\n",
       "    .dataframe tbody tr th {\n",
       "        vertical-align: top;\n",
       "    }\n",
       "\n",
       "    .dataframe thead th {\n",
       "        text-align: right;\n",
       "    }\n",
       "</style>\n",
       "<table border=\"1\" class=\"dataframe\">\n",
       "  <thead>\n",
       "    <tr style=\"text-align: right;\">\n",
       "      <th></th>\n",
       "      <th>count</th>\n",
       "      <th>mean</th>\n",
       "      <th>std</th>\n",
       "      <th>min</th>\n",
       "      <th>25%</th>\n",
       "      <th>50%</th>\n",
       "      <th>75%</th>\n",
       "      <th>max</th>\n",
       "    </tr>\n",
       "    <tr>\n",
       "      <th>Promotion</th>\n",
       "      <th></th>\n",
       "      <th></th>\n",
       "      <th></th>\n",
       "      <th></th>\n",
       "      <th></th>\n",
       "      <th></th>\n",
       "      <th></th>\n",
       "      <th></th>\n",
       "    </tr>\n",
       "  </thead>\n",
       "  <tbody>\n",
       "    <tr>\n",
       "      <th>A</th>\n",
       "      <td>172.0</td>\n",
       "      <td>8.279070</td>\n",
       "      <td>6.636160</td>\n",
       "      <td>1.0</td>\n",
       "      <td>3.0</td>\n",
       "      <td>6.0</td>\n",
       "      <td>12.0</td>\n",
       "      <td>27.0</td>\n",
       "    </tr>\n",
       "    <tr>\n",
       "      <th>B</th>\n",
       "      <td>188.0</td>\n",
       "      <td>7.978723</td>\n",
       "      <td>6.597648</td>\n",
       "      <td>1.0</td>\n",
       "      <td>3.0</td>\n",
       "      <td>7.0</td>\n",
       "      <td>10.0</td>\n",
       "      <td>28.0</td>\n",
       "    </tr>\n",
       "    <tr>\n",
       "      <th>C</th>\n",
       "      <td>188.0</td>\n",
       "      <td>9.234043</td>\n",
       "      <td>6.651646</td>\n",
       "      <td>1.0</td>\n",
       "      <td>5.0</td>\n",
       "      <td>8.0</td>\n",
       "      <td>12.0</td>\n",
       "      <td>24.0</td>\n",
       "    </tr>\n",
       "  </tbody>\n",
       "</table>\n",
       "</div>"
      ],
      "text/plain": [
       "           count      mean       std  min  25%  50%   75%   max\n",
       "Promotion                                                      \n",
       "A          172.0  8.279070  6.636160  1.0  3.0  6.0  12.0  27.0\n",
       "B          188.0  7.978723  6.597648  1.0  3.0  7.0  10.0  28.0\n",
       "C          188.0  9.234043  6.651646  1.0  5.0  8.0  12.0  24.0"
      ]
     },
     "execution_count": 30,
     "metadata": {},
     "output_type": "execute_result"
    }
   ],
   "source": [
    "# Tampilkan statistik setiap jenis promosi\n",
    "df.groupby('Promotion').describe()['AgeOfStore']"
   ]
  },
  {
   "cell_type": "markdown",
   "id": "9ae2fc30-61ed-4beb-a8e8-bca6cd6a4f3f",
   "metadata": {},
   "source": [
    "Tabel diatas memudahkan untuk mengetahui ringkasan statistik dari jenis-jenis promosi.<br>\n",
    "Usia toko rata-rata 8-9 tahun.<br>\n",
    "Mayoritas toko memiliki usia 10-12 tahun.<br>\n",
    "Pada deskripsi tersebut dapat diketahui bahwa hampir setiap toko memiliki kemiripan statistik.<br>\n",
    "Ini menunjukkan bahwa kelompok sampel kami terkontrol dengan baik dan hasil pengujian A/B akan bermakna dan dapat dipercaya."
   ]
  },
  {
   "cell_type": "markdown",
   "id": "0de9986c-a6e4-43dd-962a-2b42462e8cf2",
   "metadata": {},
   "source": [
    "# Pengujian A/B testing"
   ]
  },
  {
   "cell_type": "code",
   "execution_count": 31,
   "id": "66be16e1-f892-4ab4-a60c-5482c987f988",
   "metadata": {},
   "outputs": [
    {
     "name": "stdout",
     "output_type": "stream",
     "text": [
      "Rata-rata Penjualan Pada Promosi : \n",
      " Promotion\n",
      "A    58.099012\n",
      "B    47.329415\n",
      "C    55.364468\n",
      "Name: SalesInThousands, dtype: float64\n",
      "\n",
      "Standar Deviasi Penjualan Pada Promosi : \n",
      " Promotion\n",
      "A    16.553782\n",
      "B    15.108955\n",
      "C    16.766231\n",
      "Name: SalesInThousands, dtype: float64\n",
      "\n",
      "Jumlah Penjualan Pada Promosi : \n",
      " Promotion\n",
      "A    172\n",
      "B    188\n",
      "C    188\n",
      "Name: SalesInThousands, dtype: int64\n"
     ]
    }
   ],
   "source": [
    "means = df.groupby('Promotion').mean()['SalesInThousands']\n",
    "stds = df.groupby('Promotion').std()['SalesInThousands']\n",
    "ns = df.groupby('Promotion').count()['SalesInThousands']\n",
    "print('Rata-rata Penjualan Pada Promosi : \\n',means)\n",
    "print('\\nStandar Deviasi Penjualan Pada Promosi : \\n',stds)\n",
    "print('\\nJumlah Penjualan Pada Promosi : \\n',ns)"
   ]
  },
  {
   "cell_type": "markdown",
   "id": "65cf3405-3fae-4b39-ad07-bd2ba511e679",
   "metadata": {},
   "source": [
    "<b>T-Value</b><br>\n",
    "Nilai-t mengukur tingkat perbedaan relatif terhadap variasi dalam kelompok data yang digunakan. Nilai t yang besar menunjukkan tingkat perbedaan yang lebih tinggi antar kelompok data.<br>\n",
    "<b>P-Value</b><br>\n",
    "P-value mengukur probabilitas bahwa hasil akan terjadi secara kebetulan. Oleh karena itu, semakin kecil nilai p, semakin signifikan (penting) perbedaan antara kedua kelompok."
   ]
  },
  {
   "cell_type": "markdown",
   "id": "d3af598d-a289-4820-a243-e64ca657d8e1",
   "metadata": {},
   "source": [
    "# Perbanding Promosi 1 dengan Promosi 2 dalam uji A/B"
   ]
  },
  {
   "cell_type": "code",
   "execution_count": 33,
   "id": "be007b73-e192-4bdf-a8da-8ffcae1676cb",
   "metadata": {},
   "outputs": [
    {
     "name": "stdout",
     "output_type": "stream",
     "text": [
      "t-value = 6.42752867090748\n",
      "p-value = 4.2903687179871785e-10\n"
     ]
    }
   ],
   "source": [
    "# Computing the t and p values using scipy \n",
    "from scipy import stats\n",
    "\n",
    "t, p = stats.ttest_ind(df.loc[df['Promotion'] == 'A',\n",
    "                              'SalesInThousands'].values,\n",
    "                       df.loc[df['Promotion'] == 'B',\n",
    "                              'SalesInThousands'].values, \n",
    "                       equal_var=False)\n",
    "print(\"t-value = \" +str(t))\n",
    "print(\"p-value = \" +str(p))"
   ]
  },
  {
   "cell_type": "markdown",
   "id": "c84cd700-6489-4be5-a91b-ad9c7f60caa3",
   "metadata": {},
   "source": [
    "# Analisa P dan t-Values\n",
    "Nilai P kami mendekati 0 yang menunjukkan bahwa ada bukti yang baik untuk MENOLAK Hipotesis Null. Artinya ada perbedaan statistik antara kedua kelompok. Ambang batas kami menolak Null biasanya kurang dari 0,05.<br>\n",
    "T-test kami menunjukkan bahwa kinerja pemasaran untuk kedua kelompok ini secara signifikan berbeda dan bahwa kelompok promosi A mengungguli grup promosi B."
   ]
  },
  {
   "cell_type": "markdown",
   "id": "0f971b36-a875-469c-b799-fbc2057e03f7",
   "metadata": {},
   "source": [
    "# Perbandingan Promosi 1 dengan Promosi 3 dalam uji A/B <br>\n",
    "Namun, jika kami menjalankan t-test antara grup promosi 1 dan grup promosi 3, kami melihat hasil yang berbeda:"
   ]
  },
  {
   "cell_type": "code",
   "execution_count": 34,
   "id": "ea3255f2-33d9-47fb-9f78-5f44e998964c",
   "metadata": {},
   "outputs": [
    {
     "name": "stdout",
     "output_type": "stream",
     "text": [
      "t-value = 1.5560224307758634\n",
      "p-value = 0.12059147742229478\n"
     ]
    }
   ],
   "source": [
    "t, p = stats.ttest_ind(\n",
    "    df.loc[df['Promotion'] == 'A', 'SalesInThousands'].values, \n",
    "    df.loc[df['Promotion'] == 'C', 'SalesInThousands'].values, \n",
    "    equal_var=False)\n",
    "\n",
    "print(\"t-value = \" +str(t))\n",
    "print(\"p-value = \" +str(p))"
   ]
  },
  {
   "cell_type": "markdown",
   "id": "2e42a037-af83-4b3c-a6c0-dc0b1bd87e2a",
   "metadata": {},
   "source": [
    "# Hasil analisa P dan t-values <br>\n",
    "Kami mencatat bahwa penjualan rata-rata dari grup promosi A (58,1) lebih tinggi daripada dari grup promosi C (55,36).<br>\n",
    "Tapi, menjalankan t-test antara kedua kelompok ini, memberi kita nilai t 1,556 dan nilai p 0,121.<br>\n",
    "Nilai p yang dihitung jauh lebih tinggi dari 0,05, melewati ambang batas untuk signifikansi statistik."
   ]
  },
  {
   "cell_type": "code",
   "execution_count": null,
   "id": "196ed4c5-ce57-4559-b56f-63a3ef3fefdc",
   "metadata": {
    "tags": []
   },
   "outputs": [],
   "source": []
  }
 ],
 "metadata": {
  "kernelspec": {
   "display_name": "Python 3 (ipykernel)",
   "language": "python",
   "name": "python3"
  },
  "language_info": {
   "codemirror_mode": {
    "name": "ipython",
    "version": 3
   },
   "file_extension": ".py",
   "mimetype": "text/x-python",
   "name": "python",
   "nbconvert_exporter": "python",
   "pygments_lexer": "ipython3",
   "version": "3.8.8"
  },
  "toc-autonumbering": true
 },
 "nbformat": 4,
 "nbformat_minor": 5
}
